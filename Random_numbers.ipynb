{
  "nbformat": 4,
  "nbformat_minor": 0,
  "metadata": {
    "colab": {
      "provenance": [],
      "authorship_tag": "ABX9TyOI7Yj+Fy8P/Z6DcmOqZPnB"
    },
    "kernelspec": {
      "name": "python3",
      "display_name": "Python 3"
    },
    "language_info": {
      "name": "python"
    }
  },
  "cells": [
    {
      "cell_type": "code",
      "execution_count": 1,
      "metadata": {
        "id": "JsZDpQfAYAP9"
      },
      "outputs": [],
      "source": [
        "import numpy as np\n",
        "import matplotlib.pyplot as plt\n",
        "\n",
        "url = 'https://raw.githubusercontent.com/YuriArduino/Estudos_Numpy/refs/heads/Datas_tests/apples_ts.csv'\n",
        "dado = np.loadtxt (url, delimiter=',', usecols= np.arange(1,88,1))# np.arange(start, stop, step)\n",
        "dados_transposto = dado.T\n",
        "\n",
        "datas = dados_transposto[:,0]\n",
        "precos = dados_transposto[:,1:6]\n",
        "datas = np.arange(1,88)\n",
        "\n",
        "Moscow = precos[:,0]\n",
        "Kaliningrad = precos[:,1]\n",
        "Petersburg = precos[:,2]\n",
        "Krasnodar = precos[:,3]\n",
        "Ekaterinburg = precos[:,4]\n",
        "\n",
        "Moscow_ano1 = Moscow[0:12]\n",
        "Moscow_ano2 = Moscow[12:24]\n",
        "Moscow_ano3 = Moscow[24:36]\n",
        "Moscow_ano4 = Moscow[36:48]\n",
        "\n",
        "Kaliningrad[4] = np.mean([Kaliningrad[3],Kaliningrad[5]])\n",
        "x = datas\n",
        "\n",
        "y = 2*x+80\n",
        "np.power(Moscow-y,2)\n",
        "np.sum(np.power(Moscow-y,2))\n",
        "y = 0.52*x+80\n",
        "Y = Moscow\n",
        "X = datas\n",
        "n = np.size(Moscow)\n",
        "a = (n*np.sum(X*Y) - np.sum(X)*np.sum(Y))/(n*np.sum(X**2) - np.sum(X)**2)\n",
        "b = np.mean(Y) - a*np.mean(X)\n",
        "y = a*X+b"
      ]
    },
    {
      "cell_type": "markdown",
      "source": [
        "`Gerando números aleatórios com a NumPy`"
      ],
      "metadata": {
        "id": "ss147R9vcG9T"
      }
    },
    {
      "cell_type": "code",
      "source": [
        "np.random.randint(low=40,high=100,size=100) #size = numero de valores a ser gerado"
      ],
      "metadata": {
        "colab": {
          "base_uri": "https://localhost:8080/"
        },
        "id": "sthdidr1b6Bc",
        "outputId": "4961dbf1-2473-4c39-e246-8a08c6954b56"
      },
      "execution_count": 2,
      "outputs": [
        {
          "output_type": "execute_result",
          "data": {
            "text/plain": [
              "array([51, 44, 74, 70, 64, 91, 52, 74, 77, 43, 92, 79, 92, 47, 77, 88, 72,\n",
              "       42, 60, 93, 43, 50, 90, 77, 55, 44, 82, 43, 45, 43, 94, 58, 91, 51,\n",
              "       77, 58, 87, 66, 49, 78, 49, 76, 56, 74, 90, 50, 93, 53, 73, 50, 80,\n",
              "       90, 86, 73, 82, 78, 73, 70, 44, 88, 64, 47, 62, 79, 55, 88, 49, 62,\n",
              "       83, 70, 93, 99, 63, 47, 79, 98, 65, 83, 84, 53, 88, 92, 58, 89, 64,\n",
              "       43, 52, 75, 92, 92, 47, 81, 97, 82, 84, 58, 55, 42, 68, 54])"
            ]
          },
          "metadata": {},
          "execution_count": 2
        }
      ]
    },
    {
      "cell_type": "code",
      "source": [
        "np.random.uniform(low=0.10,high=0.90,size=100) #uniform gera numero tipo float"
      ],
      "metadata": {
        "colab": {
          "base_uri": "https://localhost:8080/"
        },
        "id": "8fzCzRN1fk_w",
        "outputId": "8e02c05b-d201-4186-95fa-a8277e327bda"
      },
      "execution_count": 3,
      "outputs": [
        {
          "output_type": "execute_result",
          "data": {
            "text/plain": [
              "array([0.31813728, 0.44149279, 0.79405805, 0.44903495, 0.65720662,\n",
              "       0.6139484 , 0.62857101, 0.77428819, 0.60040809, 0.82302779,\n",
              "       0.17857539, 0.85888685, 0.8544735 , 0.81828286, 0.41514599,\n",
              "       0.41835608, 0.62423411, 0.80910324, 0.2246399 , 0.78620169,\n",
              "       0.35744479, 0.61967666, 0.19749106, 0.14487872, 0.72008628,\n",
              "       0.44208516, 0.37556398, 0.10087371, 0.34817406, 0.10695999,\n",
              "       0.63408846, 0.52342409, 0.80581184, 0.80955961, 0.79799008,\n",
              "       0.67042319, 0.18551217, 0.25371185, 0.67207671, 0.70117235,\n",
              "       0.67201752, 0.36787603, 0.46354561, 0.78635426, 0.69579335,\n",
              "       0.72142552, 0.75832303, 0.70235993, 0.80130044, 0.40388568,\n",
              "       0.7537508 , 0.83517569, 0.54114862, 0.54034936, 0.75382751,\n",
              "       0.35371985, 0.88527339, 0.62322157, 0.44501071, 0.22066652,\n",
              "       0.42437791, 0.61227535, 0.33185256, 0.65435255, 0.31723539,\n",
              "       0.58981035, 0.27795272, 0.4281987 , 0.66363902, 0.60933721,\n",
              "       0.31961816, 0.43683473, 0.10527894, 0.34384676, 0.7112309 ,\n",
              "       0.16410394, 0.28016641, 0.58174311, 0.41555173, 0.73269584,\n",
              "       0.36350102, 0.62707627, 0.48668094, 0.27890931, 0.21874137,\n",
              "       0.26302151, 0.75931566, 0.37007377, 0.89278233, 0.57273639,\n",
              "       0.29780238, 0.77641591, 0.87364689, 0.22911449, 0.18988186,\n",
              "       0.2832874 , 0.47732865, 0.4220458 , 0.11487863, 0.8448573 ])"
            ]
          },
          "metadata": {},
          "execution_count": 3
        }
      ]
    },
    {
      "cell_type": "code",
      "source": [
        "coef_angulares = np.random.uniform(low=0.10,high=0.90,size=100)"
      ],
      "metadata": {
        "id": "ciDWrhzacC1T"
      },
      "execution_count": 4,
      "outputs": []
    },
    {
      "cell_type": "code",
      "source": [
        "for i in range(100):\n",
        "    np.linalg.norm(Moscow-(coef_angulares[i]*X+b))"
      ],
      "metadata": {
        "id": "mhpgCFNAfUjg"
      },
      "execution_count": 5,
      "outputs": []
    },
    {
      "cell_type": "markdown",
      "source": [
        "Podemos armazená-los em uma variável chamada **norma**, mas se o fizermos, será salvo somente o último valor do loop. Sendo assim, é necessário que criemos um array que vá agregando os valores. Para isso, usaremos a função append(), que anexa valores ao final de um array.\n",
        "\n",
        "Antes, porém, precisamos definir um array, que chamaremos de norma2. Nele, utilizaremos a função array() que cria um array baseado em listas. Esta lista será vazia, pois as informações serão agregadas a cada iteração do loop:"
      ],
      "metadata": {
        "id": "1o4flsLsg84s"
      }
    },
    {
      "cell_type": "code",
      "source": [
        "norma2 = np.array([]) #cria um array baseado em uma lista\n",
        "for i in range(100):\n",
        "    norma2 = np.append(norma2, np.linalg.norm(Moscow-(coef_angulares[i]*X+b)))"
      ],
      "metadata": {
        "id": "KKrj6tbXfXvr"
      },
      "execution_count": 6,
      "outputs": []
    },
    {
      "cell_type": "code",
      "source": [
        "norma2"
      ],
      "metadata": {
        "colab": {
          "base_uri": "https://localhost:8080/"
        },
        "id": "qmYJpoT9heHB",
        "outputId": "fa1ecf5a-5c32-441b-ff73-bf0a197e8431"
      },
      "execution_count": 7,
      "outputs": [
        {
          "output_type": "execute_result",
          "data": {
            "text/plain": [
              "array([228.97858202, 111.58560513, 119.56343071, 154.95508011,\n",
              "       200.42869519, 101.81335416, 151.76860053, 198.65209819,\n",
              "       113.5862967 , 157.08110944, 174.05135515, 222.17697007,\n",
              "       104.9224145 , 107.04774895, 196.53104417, 194.66573727,\n",
              "       102.11625229, 166.63899283, 101.84677987, 175.55543593,\n",
              "       130.73492504, 162.77800363, 198.88913106, 138.37979706,\n",
              "       153.81731023, 106.03666896, 196.85333249, 209.17394065,\n",
              "       123.85293329, 162.29980774, 141.12464094, 143.2574575 ,\n",
              "       232.57195688, 134.56294533, 202.31948914, 148.03973422,\n",
              "       105.17084272, 167.51261479, 140.93362599, 103.75984201,\n",
              "       145.16362332, 152.38049108, 204.24164576, 102.82873906,\n",
              "       187.82877957, 149.4429179 , 233.34866572, 154.38461411,\n",
              "       176.71661868, 102.27903013, 103.14559795, 106.90811436,\n",
              "       104.11030987, 114.12392921, 135.25718307, 148.04763534,\n",
              "       106.61174814, 227.01601997, 103.00354284, 101.98549495,\n",
              "       102.31020036, 152.96517599, 138.93266628, 110.0631573 ,\n",
              "       107.00753199, 122.75492537, 177.7798973 , 240.33915534,\n",
              "       165.03169762, 104.23488627, 102.09744868, 101.83389845,\n",
              "       192.96621109, 170.29923095, 179.85207435, 230.69683835,\n",
              "       182.45011054, 184.03462748, 140.18920184, 103.2296365 ,\n",
              "       103.41727912, 180.04419779, 105.93428378, 168.02340062,\n",
              "       174.75009084, 186.5145305 , 154.64966768, 183.11373041,\n",
              "       179.51710374, 203.23356435, 225.49847117, 207.35226403,\n",
              "       136.69055858, 105.64872559, 102.15371714, 146.19124736,\n",
              "       112.11613346, 165.07259533, 211.19472574, 110.97029949])"
            ]
          },
          "metadata": {},
          "execution_count": 7
        }
      ]
    },
    {
      "cell_type": "markdown",
      "source": [
        "Como retorno, temos um array com os valores.\n",
        "\n",
        "Dentre os dados do array norma2, queremos a norma de menor valor. Podemos presumir, visualizando o array, que a menor norma é o valor em torno de 102, na posição 1.\n",
        "\n",
        "Como queremos o coeficiente angular desta norma, basta passarmos coef_angular[] com a posição da norma 1:"
      ],
      "metadata": {
        "id": "WxXee-7Bh4X_"
      }
    },
    {
      "cell_type": "code",
      "source": [
        "coef_angulares[1]"
      ],
      "metadata": {
        "colab": {
          "base_uri": "https://localhost:8080/"
        },
        "id": "FOW4rXCbh6E4",
        "outputId": "2968458d-d1e5-4bda-ffdf-70f1a7bfb2b9"
      },
      "execution_count": 8,
      "outputs": [
        {
          "output_type": "execute_result",
          "data": {
            "text/plain": [
              "np.float64(0.33848652302525384)"
            ]
          },
          "metadata": {},
          "execution_count": 8
        }
      ]
    },
    {
      "cell_type": "markdown",
      "source": [
        "Como retorno, obtemos, um valor bem próximo do que havíamos estimado com a fórmula fechada dos coeficientes."
      ],
      "metadata": {
        "id": "ZyT7kO3fh_8t"
      }
    },
    {
      "cell_type": "markdown",
      "source": [
        "`Reprodutibilidade`"
      ],
      "metadata": {
        "id": "GBVc0gT2iGlf"
      }
    },
    {
      "cell_type": "markdown",
      "source": [
        "Chegamos ao coeficiente angular através da geração de números aleatórios. Mas a intenção é gerar os mesmos números aleatórios gerados na máquina do instrutor.\n",
        "\n",
        "Quando utilizamos uma geração de números aleatórios, não estamos fazendo isso efetivamente.\n",
        "\n",
        "Se executarmos o seguinte comando diversas vezes, obteremos diferentes resultados:"
      ],
      "metadata": {
        "id": "yeHknPRziOCO"
      }
    },
    {
      "cell_type": "code",
      "source": [
        "np.random.uniform(low=0.10,high=0.90,size=100)"
      ],
      "metadata": {
        "colab": {
          "base_uri": "https://localhost:8080/"
        },
        "id": "INGlOn8PiW6b",
        "outputId": "4d37c633-5757-429d-acf5-4702b86b3aa2"
      },
      "execution_count": 9,
      "outputs": [
        {
          "output_type": "execute_result",
          "data": {
            "text/plain": [
              "array([0.73357936, 0.433969  , 0.79632415, 0.40647969, 0.47045782,\n",
              "       0.23864875, 0.77199516, 0.55500515, 0.7680813 , 0.36035658,\n",
              "       0.51449273, 0.41013441, 0.62679966, 0.80774808, 0.73934656,\n",
              "       0.37414977, 0.4147055 , 0.58647638, 0.48793599, 0.16339284,\n",
              "       0.34870911, 0.51382818, 0.65015287, 0.63722868, 0.37797161,\n",
              "       0.23530262, 0.12759345, 0.1309855 , 0.62232356, 0.53739641,\n",
              "       0.41504794, 0.73399323, 0.53628342, 0.16715038, 0.59886837,\n",
              "       0.72519747, 0.26553344, 0.71576112, 0.84124742, 0.49770545,\n",
              "       0.63585   , 0.51420563, 0.87270208, 0.69773649, 0.48354422,\n",
              "       0.55025983, 0.32523887, 0.78089247, 0.24683395, 0.24703195,\n",
              "       0.37492308, 0.34151456, 0.35671216, 0.85309392, 0.38921745,\n",
              "       0.22151841, 0.72610958, 0.10428699, 0.177629  , 0.26372505,\n",
              "       0.45660299, 0.55010312, 0.15058592, 0.55549171, 0.77499084,\n",
              "       0.40423033, 0.31464695, 0.5403873 , 0.28248919, 0.47715294,\n",
              "       0.21107169, 0.89311439, 0.88487484, 0.55651626, 0.43779259,\n",
              "       0.55192152, 0.17767303, 0.53434121, 0.36509799, 0.35014064,\n",
              "       0.89722837, 0.83068148, 0.54594588, 0.33300278, 0.77462482,\n",
              "       0.72009115, 0.23329531, 0.18269215, 0.69917586, 0.26270506,\n",
              "       0.17240618, 0.10583045, 0.56812602, 0.29651551, 0.44172112,\n",
              "       0.70188872, 0.56628877, 0.79879193, 0.76080548, 0.47082483])"
            ]
          },
          "metadata": {},
          "execution_count": 9
        }
      ]
    },
    {
      "cell_type": "markdown",
      "source": [
        "Ainda assim, não são números totalmente aleatórios, pois partem de um cálculo que parte de uma semente, então se utilizarmos a mesma semente conseguiremos gerar a mesma sequência de números aleatórios.\n",
        "\n",
        "Esta semente é um número definido que será utilizado para uma sequência de cálculos da função geradora de números aleatórios da NumPy. Utilizando o mesmo número conseguiremos gerar a mesma sequência.\n",
        "\n",
        "Para isso, precisamos utilizar uma função da NumPy, chamada `random.seed()`, que seleciona um número semente fixo para inicializar o gerador aleatório, optaremos por 16."
      ],
      "metadata": {
        "id": "nD--Wi7Nibw1"
      }
    },
    {
      "cell_type": "code",
      "source": [
        "np.random.seed(16)"
      ],
      "metadata": {
        "id": "UqoW-rj-id8b"
      },
      "execution_count": 10,
      "outputs": []
    },
    {
      "cell_type": "code",
      "source": [
        "np.random.seed(16)\n",
        "np.random.uniform(low=0.10,high=0.90,size=100)"
      ],
      "metadata": {
        "colab": {
          "base_uri": "https://localhost:8080/"
        },
        "id": "Y6pI-NXSiiMp",
        "outputId": "f0425dbf-ba8e-4f71-8225-3b32020b3400"
      },
      "execution_count": 11,
      "outputs": [
        {
          "output_type": "execute_result",
          "data": {
            "text/plain": [
              "array([0.27863286, 0.51853067, 0.54056117, 0.13648156, 0.38858307,\n",
              "       0.27846475, 0.65098093, 0.23098514, 0.15625989, 0.85280869,\n",
              "       0.5509451 , 0.16239387, 0.67811241, 0.22676174, 0.30022505,\n",
              "       0.3347898 , 0.65728857, 0.47141127, 0.27204971, 0.45746101,\n",
              "       0.196703  , 0.83414961, 0.55315706, 0.47761545, 0.35165314,\n",
              "       0.13457258, 0.70195593, 0.53461524, 0.71375234, 0.73235901,\n",
              "       0.1577771 , 0.62777267, 0.14263947, 0.64801956, 0.45468077,\n",
              "       0.47439692, 0.62884747, 0.65197331, 0.31066359, 0.10918315,\n",
              "       0.71703556, 0.75291386, 0.21171328, 0.5624054 , 0.37253942,\n",
              "       0.28577239, 0.258915  , 0.31719262, 0.88148221, 0.27234318,\n",
              "       0.38512593, 0.11471996, 0.59343222, 0.28432431, 0.69388139,\n",
              "       0.56740017, 0.43608284, 0.66740227, 0.87763642, 0.74803129,\n",
              "       0.44452414, 0.86618288, 0.13820648, 0.68622544, 0.64053316,\n",
              "       0.52160413, 0.55358996, 0.6783562 , 0.64608268, 0.73625014,\n",
              "       0.19027642, 0.25933011, 0.67705538, 0.41509386, 0.37134832,\n",
              "       0.22275655, 0.18045921, 0.42579769, 0.56633237, 0.69257642,\n",
              "       0.79628867, 0.87322093, 0.46445188, 0.4203384 , 0.3391517 ,\n",
              "       0.76268805, 0.82787294, 0.71290934, 0.15465183, 0.58482122,\n",
              "       0.85137291, 0.18171413, 0.88203161, 0.38535098, 0.62334973,\n",
              "       0.19822857, 0.86908175, 0.62094514, 0.84934225, 0.82706184])"
            ]
          },
          "metadata": {},
          "execution_count": 11
        }
      ]
    },
    {
      "cell_type": "markdown",
      "source": [
        "Ao executar, nos é retornado um array com números. Se rodarmos novamente esta célula, teremos acesso a essa mesma sequência de números. Dessa forma, temos um artifício que garante que outras pessoas consigam reproduzir o mesmo resultado.\n",
        "\n",
        "Dito isso, conseguimos utilizá-lo em nossa formulação anterior. O único detalhe é que, se copiarmos e executarmos somente a função random.uniform(), teremos uma sequência diferente da anterior. Isso ocorre porque sempre que rodamos o gerador aleatório, a semente é reiniciada. Ou seja, precisamos manter o random.seed() anterior à geração aleatória."
      ],
      "metadata": {
        "id": "Oqpynbh2ioDT"
      }
    },
    {
      "cell_type": "code",
      "source": [
        "np.random.uniform(low=0.10,high=0.90,size=100)"
      ],
      "metadata": {
        "colab": {
          "base_uri": "https://localhost:8080/"
        },
        "id": "gvtLYMbZi3q5",
        "outputId": "a65351a1-0bd4-42a2-ba89-2c46b2b127cc"
      },
      "execution_count": 12,
      "outputs": [
        {
          "output_type": "execute_result",
          "data": {
            "text/plain": [
              "array([0.44960625, 0.84660877, 0.6649738 , 0.3137093 , 0.24381312,\n",
              "       0.62444268, 0.75762225, 0.82632709, 0.60094058, 0.23021803,\n",
              "       0.32531695, 0.57056726, 0.18939953, 0.31561783, 0.10158752,\n",
              "       0.8172507 , 0.84426197, 0.37218716, 0.43806484, 0.63615709,\n",
              "       0.58899087, 0.6287384 , 0.50565024, 0.6079786 , 0.186593  ,\n",
              "       0.86096057, 0.12674521, 0.17760717, 0.77755741, 0.589895  ,\n",
              "       0.66012116, 0.5402081 , 0.74912113, 0.61550566, 0.25798175,\n",
              "       0.71865813, 0.37568338, 0.78032819, 0.37303852, 0.87741331,\n",
              "       0.27874366, 0.61071995, 0.20988571, 0.20351926, 0.62102058,\n",
              "       0.67393313, 0.17959038, 0.56202053, 0.43162626, 0.20814878,\n",
              "       0.51409109, 0.15177981, 0.81856642, 0.17554983, 0.79028286,\n",
              "       0.69077766, 0.19160922, 0.53415003, 0.87612054, 0.29766179,\n",
              "       0.55874061, 0.5544281 , 0.37319402, 0.19418133, 0.53560291,\n",
              "       0.55429196, 0.83163181, 0.6011205 , 0.49649913, 0.24835563,\n",
              "       0.4110233 , 0.55816343, 0.68183351, 0.89018677, 0.25343088,\n",
              "       0.6383872 , 0.43226705, 0.60920654, 0.10477629, 0.68663648,\n",
              "       0.75976036, 0.13664941, 0.38507405, 0.27633891, 0.61907542,\n",
              "       0.16912588, 0.37126432, 0.62685982, 0.76433179, 0.25116693,\n",
              "       0.1117063 , 0.27701691, 0.72403467, 0.10326749, 0.65193666,\n",
              "       0.26783393, 0.7629932 , 0.74633516, 0.85320056, 0.49577163])"
            ]
          },
          "metadata": {},
          "execution_count": 12
        }
      ]
    },
    {
      "cell_type": "code",
      "source": [
        "np.random.seed(84)\n",
        "coef_angulares = np.random.uniform(low=0.10,high=0.90,size=100)\n",
        "norma2 = np.array([])\n",
        "for i in range(100):\n",
        "    norma2 = np.append(norma2, np.linalg.norm(Moscow-(coef_angulares[i]*X+b)))"
      ],
      "metadata": {
        "id": "kRQtwcL_ipJc"
      },
      "execution_count": 13,
      "outputs": []
    },
    {
      "cell_type": "code",
      "source": [
        "norma2"
      ],
      "metadata": {
        "colab": {
          "base_uri": "https://localhost:8080/"
        },
        "id": "IweWa3JWjW8E",
        "outputId": "88b2d1f1-ff30-46b0-aecb-c2d9d78dd372"
      },
      "execution_count": 14,
      "outputs": [
        {
          "output_type": "execute_result",
          "data": {
            "text/plain": [
              "array([173.90151233, 103.45241986, 121.75367289, 128.97173036,\n",
              "       238.69504078, 149.16590195, 137.73123242, 118.54419212,\n",
              "       101.79720981, 149.04689147, 112.80225228, 105.8049351 ,\n",
              "       230.82444742, 111.69709582, 134.56525603, 110.93209631,\n",
              "       204.12484401, 196.82117307, 221.88687726, 156.13691054,\n",
              "       125.51272174, 136.46474504, 165.39506278, 240.68784732,\n",
              "       104.52254473, 188.75637903, 131.2292927 , 128.94885341,\n",
              "       234.70773582, 147.01799832, 113.7418054 , 116.94496221,\n",
              "       109.58257043, 107.09546548, 145.00728041, 182.83818792,\n",
              "       140.95017242, 106.12371866, 107.0915778 , 132.45242448,\n",
              "       144.8736358 , 143.54772697, 240.23793834, 113.74604121,\n",
              "       116.01191029, 152.02977343, 174.72333708, 141.8068161 ,\n",
              "       101.93467119, 103.01538109, 169.59787792, 128.13083711,\n",
              "       105.06648948, 101.83421597, 102.53716362, 113.63850533,\n",
              "       219.96993004, 117.37921502, 182.70217805, 146.69612581,\n",
              "       178.64742004, 132.25425967, 109.74998636, 186.49825034,\n",
              "       104.98272763, 133.73791912, 182.82613374, 235.49081018,\n",
              "       179.79275527, 228.72013359, 184.2584889 , 114.02435937,\n",
              "       124.95415977, 187.42082714, 105.18421164, 102.1005486 ,\n",
              "       135.72717949, 107.19212075, 114.07766563, 225.76351056,\n",
              "       103.96340568, 118.21130391, 109.96158846, 181.54233309,\n",
              "       114.09828878, 118.61778913, 224.37792949, 153.50523694,\n",
              "       185.44994519, 117.35423938, 151.19534147, 118.44720795,\n",
              "       112.26379208, 104.60483872, 123.8587347 , 111.40038324,\n",
              "       102.05294074, 150.97459646, 108.76787533, 107.97542886])"
            ]
          },
          "metadata": {},
          "execution_count": 14
        }
      ]
    },
    {
      "cell_type": "code",
      "source": [
        "coef_angulares"
      ],
      "metadata": {
        "colab": {
          "base_uri": "https://localhost:8080/"
        },
        "id": "nG4mxEPDjsx0",
        "outputId": "aa5edfc1-2fe0-45ab-e4bd-a5063721f4f8"
      },
      "execution_count": 15,
      "outputs": [
        {
          "output_type": "execute_result",
          "data": {
            "text/plain": [
              "array([0.13683279, 0.39619385, 0.29385461, 0.602784  , 0.89208805,\n",
              "       0.20447044, 0.23887133, 0.30665125, 0.43471917, 0.20481511,\n",
              "       0.3323601 , 0.49624488, 0.87360345, 0.33791189, 0.62144155,\n",
              "       0.52849032, 0.8096211 , 0.7916786 , 0.85242626, 0.18466651,\n",
              "       0.59057786, 0.24287265, 0.15934165, 0.89674619, 0.38501918,\n",
              "       0.77157959, 0.61045713, 0.2676991 , 0.88274155, 0.21072909,\n",
              "       0.54257849, 0.3133875 , 0.34935345, 0.36479868, 0.21666475,\n",
              "       0.75660734, 0.22889395, 0.4986747 , 0.36482516, 0.25587381,\n",
              "       0.21706205, 0.64938079, 0.89569528, 0.32780566, 0.55295355,\n",
              "       0.19624604, 0.13469036, 0.22628157, 0.44641143, 0.40177235,\n",
              "       0.1481411 , 0.59986997, 0.49023732, 0.4293729 , 0.46122788,\n",
              "       0.54208756, 0.84785549, 0.31153122, 0.11414346, 0.65873013,\n",
              "       0.74587422, 0.61387426, 0.52200325, 0.76589084, 0.38088747,\n",
              "       0.25165091, 0.11382762, 0.88457997, 0.74881915, 0.86863621,\n",
              "       0.11018484, 0.32649201, 0.28185578, 0.10218576, 0.37916895,\n",
              "       0.45185191, 0.24522431, 0.50626125, 0.32624184, 0.86163791,\n",
              "       0.4798819 , 0.30803145, 0.34720986, 0.11710349, 0.32614518,\n",
              "       0.30634758, 0.85835026, 0.67834579, 0.76324004, 0.55876684,\n",
              "       0.19862885, 0.56335202, 0.53537079, 0.48614717, 0.58451562,\n",
              "       0.53095673, 0.45048903, 0.67114321, 0.35412587, 0.35901695])"
            ]
          },
          "metadata": {},
          "execution_count": 15
        }
      ]
    },
    {
      "cell_type": "markdown",
      "source": [
        "`Salvando os resultados`"
      ],
      "metadata": {
        "id": "Rzms4hAek4ln"
      }
    },
    {
      "cell_type": "markdown",
      "source": [
        "Podemos guardar esses valores pensando em futuras análises e comparações. Para isso, precisamos primeiro agregar essas informações em um único dado. Então criaremos uma variável dados e usamos a função column_stack(), que une dois ou mais arrays, lado a lado, como colunas, em uma matriz.\n",
        "\n",
        "Basicamente, esta função pega arrays unidimensionais, como os que criamos, e os agrega em um único array bidimensional. Para isso, passamos uma lista com os arrays:"
      ],
      "metadata": {
        "id": "Vh90rG1Gk8n6"
      }
    },
    {
      "cell_type": "code",
      "source": [
        "dados = np.column_stack([norma2,coef_angulares])\n",
        "#column_stack une dois ou mais arrays\n",
        "#Lado a Lado, como colunas em uma matriz"
      ],
      "metadata": {
        "id": "Kx6HHnzmk9-I"
      },
      "execution_count": 16,
      "outputs": []
    },
    {
      "cell_type": "code",
      "source": [
        "#Verificar a formula do array\n",
        "dados.shape #100 linhas e 2 colunas."
      ],
      "metadata": {
        "colab": {
          "base_uri": "https://localhost:8080/"
        },
        "id": "4J0yuKaflAAJ",
        "outputId": "f18aea8c-c27a-4538-a00f-2aae1b917ba6"
      },
      "execution_count": 17,
      "outputs": [
        {
          "output_type": "execute_result",
          "data": {
            "text/plain": [
              "(100, 2)"
            ]
          },
          "metadata": {},
          "execution_count": 17
        }
      ]
    },
    {
      "cell_type": "markdown",
      "source": [
        "Para salvar um array em um arquivo de texto, usamos savetxt(), que recebe o nome do arquivo entre aspas ('dados.csv'), os dados que serão salvos (dados) e o delimitador vírgula (delimiter=','):"
      ],
      "metadata": {
        "id": "aQUhAQdxlb_1"
      }
    },
    {
      "cell_type": "code",
      "source": [
        "np.savetxt('dados_teste.csv',dados,delimiter=',')"
      ],
      "metadata": {
        "id": "oLeIU9HolAvU"
      },
      "execution_count": 18,
      "outputs": []
    },
    {
      "cell_type": "code",
      "source": [
        "#Carregar e visualizar com pandas\n",
        "import pandas as pd\n",
        "\n",
        "df = pd.read_csv('dados_teste.csv', header=None)\n",
        "display(df)"
      ],
      "metadata": {
        "colab": {
          "base_uri": "https://localhost:8080/",
          "height": 424
        },
        "id": "JxUc1O6Nl_CV",
        "outputId": "4ae5d86a-15dd-4884-f814-23ce20913338"
      },
      "execution_count": 19,
      "outputs": [
        {
          "output_type": "display_data",
          "data": {
            "text/plain": [
              "             0         1\n",
              "0   173.901512  0.136833\n",
              "1   103.452420  0.396194\n",
              "2   121.753673  0.293855\n",
              "3   128.971730  0.602784\n",
              "4   238.695041  0.892088\n",
              "..         ...       ...\n",
              "95  111.400383  0.530957\n",
              "96  102.052941  0.450489\n",
              "97  150.974596  0.671143\n",
              "98  108.767875  0.354126\n",
              "99  107.975429  0.359017\n",
              "\n",
              "[100 rows x 2 columns]"
            ],
            "text/html": [
              "\n",
              "  <div id=\"df-c299576b-871a-4260-a3d3-751ca4258a2e\" class=\"colab-df-container\">\n",
              "    <div>\n",
              "<style scoped>\n",
              "    .dataframe tbody tr th:only-of-type {\n",
              "        vertical-align: middle;\n",
              "    }\n",
              "\n",
              "    .dataframe tbody tr th {\n",
              "        vertical-align: top;\n",
              "    }\n",
              "\n",
              "    .dataframe thead th {\n",
              "        text-align: right;\n",
              "    }\n",
              "</style>\n",
              "<table border=\"1\" class=\"dataframe\">\n",
              "  <thead>\n",
              "    <tr style=\"text-align: right;\">\n",
              "      <th></th>\n",
              "      <th>0</th>\n",
              "      <th>1</th>\n",
              "    </tr>\n",
              "  </thead>\n",
              "  <tbody>\n",
              "    <tr>\n",
              "      <th>0</th>\n",
              "      <td>173.901512</td>\n",
              "      <td>0.136833</td>\n",
              "    </tr>\n",
              "    <tr>\n",
              "      <th>1</th>\n",
              "      <td>103.452420</td>\n",
              "      <td>0.396194</td>\n",
              "    </tr>\n",
              "    <tr>\n",
              "      <th>2</th>\n",
              "      <td>121.753673</td>\n",
              "      <td>0.293855</td>\n",
              "    </tr>\n",
              "    <tr>\n",
              "      <th>3</th>\n",
              "      <td>128.971730</td>\n",
              "      <td>0.602784</td>\n",
              "    </tr>\n",
              "    <tr>\n",
              "      <th>4</th>\n",
              "      <td>238.695041</td>\n",
              "      <td>0.892088</td>\n",
              "    </tr>\n",
              "    <tr>\n",
              "      <th>...</th>\n",
              "      <td>...</td>\n",
              "      <td>...</td>\n",
              "    </tr>\n",
              "    <tr>\n",
              "      <th>95</th>\n",
              "      <td>111.400383</td>\n",
              "      <td>0.530957</td>\n",
              "    </tr>\n",
              "    <tr>\n",
              "      <th>96</th>\n",
              "      <td>102.052941</td>\n",
              "      <td>0.450489</td>\n",
              "    </tr>\n",
              "    <tr>\n",
              "      <th>97</th>\n",
              "      <td>150.974596</td>\n",
              "      <td>0.671143</td>\n",
              "    </tr>\n",
              "    <tr>\n",
              "      <th>98</th>\n",
              "      <td>108.767875</td>\n",
              "      <td>0.354126</td>\n",
              "    </tr>\n",
              "    <tr>\n",
              "      <th>99</th>\n",
              "      <td>107.975429</td>\n",
              "      <td>0.359017</td>\n",
              "    </tr>\n",
              "  </tbody>\n",
              "</table>\n",
              "<p>100 rows × 2 columns</p>\n",
              "</div>\n",
              "    <div class=\"colab-df-buttons\">\n",
              "\n",
              "  <div class=\"colab-df-container\">\n",
              "    <button class=\"colab-df-convert\" onclick=\"convertToInteractive('df-c299576b-871a-4260-a3d3-751ca4258a2e')\"\n",
              "            title=\"Convert this dataframe to an interactive table.\"\n",
              "            style=\"display:none;\">\n",
              "\n",
              "  <svg xmlns=\"http://www.w3.org/2000/svg\" height=\"24px\" viewBox=\"0 -960 960 960\">\n",
              "    <path d=\"M120-120v-720h720v720H120Zm60-500h600v-160H180v160Zm220 220h160v-160H400v160Zm0 220h160v-160H400v160ZM180-400h160v-160H180v160Zm440 0h160v-160H620v160ZM180-180h160v-160H180v160Zm440 0h160v-160H620v160Z\"/>\n",
              "  </svg>\n",
              "    </button>\n",
              "\n",
              "  <style>\n",
              "    .colab-df-container {\n",
              "      display:flex;\n",
              "      gap: 12px;\n",
              "    }\n",
              "\n",
              "    .colab-df-convert {\n",
              "      background-color: #E8F0FE;\n",
              "      border: none;\n",
              "      border-radius: 50%;\n",
              "      cursor: pointer;\n",
              "      display: none;\n",
              "      fill: #1967D2;\n",
              "      height: 32px;\n",
              "      padding: 0 0 0 0;\n",
              "      width: 32px;\n",
              "    }\n",
              "\n",
              "    .colab-df-convert:hover {\n",
              "      background-color: #E2EBFA;\n",
              "      box-shadow: 0px 1px 2px rgba(60, 64, 67, 0.3), 0px 1px 3px 1px rgba(60, 64, 67, 0.15);\n",
              "      fill: #174EA6;\n",
              "    }\n",
              "\n",
              "    .colab-df-buttons div {\n",
              "      margin-bottom: 4px;\n",
              "    }\n",
              "\n",
              "    [theme=dark] .colab-df-convert {\n",
              "      background-color: #3B4455;\n",
              "      fill: #D2E3FC;\n",
              "    }\n",
              "\n",
              "    [theme=dark] .colab-df-convert:hover {\n",
              "      background-color: #434B5C;\n",
              "      box-shadow: 0px 1px 3px 1px rgba(0, 0, 0, 0.15);\n",
              "      filter: drop-shadow(0px 1px 2px rgba(0, 0, 0, 0.3));\n",
              "      fill: #FFFFFF;\n",
              "    }\n",
              "  </style>\n",
              "\n",
              "    <script>\n",
              "      const buttonEl =\n",
              "        document.querySelector('#df-c299576b-871a-4260-a3d3-751ca4258a2e button.colab-df-convert');\n",
              "      buttonEl.style.display =\n",
              "        google.colab.kernel.accessAllowed ? 'block' : 'none';\n",
              "\n",
              "      async function convertToInteractive(key) {\n",
              "        const element = document.querySelector('#df-c299576b-871a-4260-a3d3-751ca4258a2e');\n",
              "        const dataTable =\n",
              "          await google.colab.kernel.invokeFunction('convertToInteractive',\n",
              "                                                    [key], {});\n",
              "        if (!dataTable) return;\n",
              "\n",
              "        const docLinkHtml = 'Like what you see? Visit the ' +\n",
              "          '<a target=\"_blank\" href=https://colab.research.google.com/notebooks/data_table.ipynb>data table notebook</a>'\n",
              "          + ' to learn more about interactive tables.';\n",
              "        element.innerHTML = '';\n",
              "        dataTable['output_type'] = 'display_data';\n",
              "        await google.colab.output.renderOutput(dataTable, element);\n",
              "        const docLink = document.createElement('div');\n",
              "        docLink.innerHTML = docLinkHtml;\n",
              "        element.appendChild(docLink);\n",
              "      }\n",
              "    </script>\n",
              "  </div>\n",
              "\n",
              "\n",
              "    <div id=\"df-2715a2f4-913c-4a42-93a1-5b8366e961c4\">\n",
              "      <button class=\"colab-df-quickchart\" onclick=\"quickchart('df-2715a2f4-913c-4a42-93a1-5b8366e961c4')\"\n",
              "                title=\"Suggest charts\"\n",
              "                style=\"display:none;\">\n",
              "\n",
              "<svg xmlns=\"http://www.w3.org/2000/svg\" height=\"24px\"viewBox=\"0 0 24 24\"\n",
              "     width=\"24px\">\n",
              "    <g>\n",
              "        <path d=\"M19 3H5c-1.1 0-2 .9-2 2v14c0 1.1.9 2 2 2h14c1.1 0 2-.9 2-2V5c0-1.1-.9-2-2-2zM9 17H7v-7h2v7zm4 0h-2V7h2v10zm4 0h-2v-4h2v4z\"/>\n",
              "    </g>\n",
              "</svg>\n",
              "      </button>\n",
              "\n",
              "<style>\n",
              "  .colab-df-quickchart {\n",
              "      --bg-color: #E8F0FE;\n",
              "      --fill-color: #1967D2;\n",
              "      --hover-bg-color: #E2EBFA;\n",
              "      --hover-fill-color: #174EA6;\n",
              "      --disabled-fill-color: #AAA;\n",
              "      --disabled-bg-color: #DDD;\n",
              "  }\n",
              "\n",
              "  [theme=dark] .colab-df-quickchart {\n",
              "      --bg-color: #3B4455;\n",
              "      --fill-color: #D2E3FC;\n",
              "      --hover-bg-color: #434B5C;\n",
              "      --hover-fill-color: #FFFFFF;\n",
              "      --disabled-bg-color: #3B4455;\n",
              "      --disabled-fill-color: #666;\n",
              "  }\n",
              "\n",
              "  .colab-df-quickchart {\n",
              "    background-color: var(--bg-color);\n",
              "    border: none;\n",
              "    border-radius: 50%;\n",
              "    cursor: pointer;\n",
              "    display: none;\n",
              "    fill: var(--fill-color);\n",
              "    height: 32px;\n",
              "    padding: 0;\n",
              "    width: 32px;\n",
              "  }\n",
              "\n",
              "  .colab-df-quickchart:hover {\n",
              "    background-color: var(--hover-bg-color);\n",
              "    box-shadow: 0 1px 2px rgba(60, 64, 67, 0.3), 0 1px 3px 1px rgba(60, 64, 67, 0.15);\n",
              "    fill: var(--button-hover-fill-color);\n",
              "  }\n",
              "\n",
              "  .colab-df-quickchart-complete:disabled,\n",
              "  .colab-df-quickchart-complete:disabled:hover {\n",
              "    background-color: var(--disabled-bg-color);\n",
              "    fill: var(--disabled-fill-color);\n",
              "    box-shadow: none;\n",
              "  }\n",
              "\n",
              "  .colab-df-spinner {\n",
              "    border: 2px solid var(--fill-color);\n",
              "    border-color: transparent;\n",
              "    border-bottom-color: var(--fill-color);\n",
              "    animation:\n",
              "      spin 1s steps(1) infinite;\n",
              "  }\n",
              "\n",
              "  @keyframes spin {\n",
              "    0% {\n",
              "      border-color: transparent;\n",
              "      border-bottom-color: var(--fill-color);\n",
              "      border-left-color: var(--fill-color);\n",
              "    }\n",
              "    20% {\n",
              "      border-color: transparent;\n",
              "      border-left-color: var(--fill-color);\n",
              "      border-top-color: var(--fill-color);\n",
              "    }\n",
              "    30% {\n",
              "      border-color: transparent;\n",
              "      border-left-color: var(--fill-color);\n",
              "      border-top-color: var(--fill-color);\n",
              "      border-right-color: var(--fill-color);\n",
              "    }\n",
              "    40% {\n",
              "      border-color: transparent;\n",
              "      border-right-color: var(--fill-color);\n",
              "      border-top-color: var(--fill-color);\n",
              "    }\n",
              "    60% {\n",
              "      border-color: transparent;\n",
              "      border-right-color: var(--fill-color);\n",
              "    }\n",
              "    80% {\n",
              "      border-color: transparent;\n",
              "      border-right-color: var(--fill-color);\n",
              "      border-bottom-color: var(--fill-color);\n",
              "    }\n",
              "    90% {\n",
              "      border-color: transparent;\n",
              "      border-bottom-color: var(--fill-color);\n",
              "    }\n",
              "  }\n",
              "</style>\n",
              "\n",
              "      <script>\n",
              "        async function quickchart(key) {\n",
              "          const quickchartButtonEl =\n",
              "            document.querySelector('#' + key + ' button');\n",
              "          quickchartButtonEl.disabled = true;  // To prevent multiple clicks.\n",
              "          quickchartButtonEl.classList.add('colab-df-spinner');\n",
              "          try {\n",
              "            const charts = await google.colab.kernel.invokeFunction(\n",
              "                'suggestCharts', [key], {});\n",
              "          } catch (error) {\n",
              "            console.error('Error during call to suggestCharts:', error);\n",
              "          }\n",
              "          quickchartButtonEl.classList.remove('colab-df-spinner');\n",
              "          quickchartButtonEl.classList.add('colab-df-quickchart-complete');\n",
              "        }\n",
              "        (() => {\n",
              "          let quickchartButtonEl =\n",
              "            document.querySelector('#df-2715a2f4-913c-4a42-93a1-5b8366e961c4 button');\n",
              "          quickchartButtonEl.style.display =\n",
              "            google.colab.kernel.accessAllowed ? 'block' : 'none';\n",
              "        })();\n",
              "      </script>\n",
              "    </div>\n",
              "\n",
              "  <div id=\"id_1519a978-6fc4-4182-b2c2-a26f255e5906\">\n",
              "    <style>\n",
              "      .colab-df-generate {\n",
              "        background-color: #E8F0FE;\n",
              "        border: none;\n",
              "        border-radius: 50%;\n",
              "        cursor: pointer;\n",
              "        display: none;\n",
              "        fill: #1967D2;\n",
              "        height: 32px;\n",
              "        padding: 0 0 0 0;\n",
              "        width: 32px;\n",
              "      }\n",
              "\n",
              "      .colab-df-generate:hover {\n",
              "        background-color: #E2EBFA;\n",
              "        box-shadow: 0px 1px 2px rgba(60, 64, 67, 0.3), 0px 1px 3px 1px rgba(60, 64, 67, 0.15);\n",
              "        fill: #174EA6;\n",
              "      }\n",
              "\n",
              "      [theme=dark] .colab-df-generate {\n",
              "        background-color: #3B4455;\n",
              "        fill: #D2E3FC;\n",
              "      }\n",
              "\n",
              "      [theme=dark] .colab-df-generate:hover {\n",
              "        background-color: #434B5C;\n",
              "        box-shadow: 0px 1px 3px 1px rgba(0, 0, 0, 0.15);\n",
              "        filter: drop-shadow(0px 1px 2px rgba(0, 0, 0, 0.3));\n",
              "        fill: #FFFFFF;\n",
              "      }\n",
              "    </style>\n",
              "    <button class=\"colab-df-generate\" onclick=\"generateWithVariable('df')\"\n",
              "            title=\"Generate code using this dataframe.\"\n",
              "            style=\"display:none;\">\n",
              "\n",
              "  <svg xmlns=\"http://www.w3.org/2000/svg\" height=\"24px\"viewBox=\"0 0 24 24\"\n",
              "       width=\"24px\">\n",
              "    <path d=\"M7,19H8.4L18.45,9,17,7.55,7,17.6ZM5,21V16.75L18.45,3.32a2,2,0,0,1,2.83,0l1.4,1.43a1.91,1.91,0,0,1,.58,1.4,1.91,1.91,0,0,1-.58,1.4L9.25,21ZM18.45,9,17,7.55Zm-12,3A5.31,5.31,0,0,0,4.9,8.1,5.31,5.31,0,0,0,1,6.5,5.31,5.31,0,0,0,4.9,4.9,5.31,5.31,0,0,0,6.5,1,5.31,5.31,0,0,0,8.1,4.9,5.31,5.31,0,0,0,12,6.5,5.46,5.46,0,0,0,6.5,12Z\"/>\n",
              "  </svg>\n",
              "    </button>\n",
              "    <script>\n",
              "      (() => {\n",
              "      const buttonEl =\n",
              "        document.querySelector('#id_1519a978-6fc4-4182-b2c2-a26f255e5906 button.colab-df-generate');\n",
              "      buttonEl.style.display =\n",
              "        google.colab.kernel.accessAllowed ? 'block' : 'none';\n",
              "\n",
              "      buttonEl.onclick = () => {\n",
              "        google.colab.notebook.generateWithVariable('df');\n",
              "      }\n",
              "      })();\n",
              "    </script>\n",
              "  </div>\n",
              "\n",
              "    </div>\n",
              "  </div>\n"
            ],
            "application/vnd.google.colaboratory.intrinsic+json": {
              "type": "dataframe",
              "variable_name": "df",
              "summary": "{\n  \"name\": \"df\",\n  \"rows\": 100,\n  \"fields\": [\n    {\n      \"column\": 0,\n      \"properties\": {\n        \"dtype\": \"number\",\n        \"std\": 41.021687699231016,\n        \"min\": 101.79720981329277,\n        \"max\": 240.68784732115543,\n        \"num_unique_values\": 100,\n        \"samples\": [\n          181.5423330912483,\n          101.8342159741202,\n          184.25848890390617\n        ],\n        \"semantic_type\": \"\",\n        \"description\": \"\"\n      }\n    },\n    {\n      \"column\": 1,\n      \"properties\": {\n        \"dtype\": \"number\",\n        \"std\": 0.23154634594275683,\n        \"min\": 0.1021857626817022,\n        \"max\": 0.8967461917406969,\n        \"num_unique_values\": 100,\n        \"samples\": [\n          0.11710349022888096,\n          0.4293728980378881,\n          0.11018483995778636\n        ],\n        \"semantic_type\": \"\",\n        \"description\": \"\"\n      }\n    }\n  ]\n}"
            }
          },
          "metadata": {}
        }
      ]
    },
    {
      "cell_type": "markdown",
      "source": [
        "`Exercício:`"
      ],
      "metadata": {
        "id": "wrlNAs-imqCy"
      }
    },
    {
      "cell_type": "code",
      "source": [
        "import matplotlib.gridspec as gridspec\n",
        "import matplotlib.pyplot as plt\n",
        "import numpy as np\n",
        "\n",
        "# --- Carregando os dados ---\n",
        "url_2 = 'https://raw.githubusercontent.com/YuriArduino/Estudos_Numpy/refs/heads/Datas_tests/citrus.csv'\n",
        "fruit_data = np.loadtxt(url_2, delimiter=',', skiprows=1, usecols=np.arange(1,6,1))\n",
        "\n",
        "# --- Separando as frutas ---\n",
        "# Laranjas\n",
        "orange_diameters = fruit_data[:5000, 0]  # diâmetros\n",
        "orange_weights   = fruit_data[:5000, 1]  # pesos\n",
        "\n",
        "# Toranjas\n",
        "grapefruit_diameters = fruit_data[5000:, 0]\n",
        "grapefruit_weights   = fruit_data[5000:, 1]\n",
        "\n",
        "# --- Calculando médias ---\n",
        "x_mean = np.mean(orange_diameters)   # média dos diâmetros laranja\n",
        "y_mean = np.mean(orange_weights)     # média dos pesos laranja\n",
        "\n",
        "z_mean = np.mean(grapefruit_diameters)  # média dos diâmetros toranja\n",
        "w_mean = np.mean(grapefruit_weights)    # média dos pesos toranja\n",
        "\n",
        "# --- Cálculo da reta de regressão (laranjas) ---\n",
        "desvios_diametro_laranja = orange_diameters - x_mean    # x_i - média dos diâmetros\n",
        "desvios_peso_laranja = orange_weights - y_mean          # y_i - média dos pesos\n",
        "\n",
        "numerador_laranja = np.sum(desvios_diametro_laranja * desvios_peso_laranja)   # Σ(x_i - x̄)(y_i - ȳ)\n",
        "denominador_laranja = np.sum(desvios_diametro_laranja**2)                     # Σ(x_i - x̄)^2\n",
        "\n",
        "m_laranja = numerador_laranja / denominador_laranja       # coeficiente angular: inclinação da reta\n",
        "b_laranja = y_mean - m_laranja * x_mean                   # coeficiente linear: ponto onde a reta cruza o eixo y\n",
        "\n",
        "# --- Cálculo da reta de regressão (toranjas) ---\n",
        "desvios_diametro_toranja = grapefruit_diameters - z_mean  # x_i - média dos diâmetros\n",
        "desvios_peso_toranja = grapefruit_weights - w_mean       # y_i - média dos pesos\n",
        "\n",
        "numerador_toranja = np.sum(desvios_diametro_toranja * desvios_peso_toranja)  # Σ(x_i - x̄)(y_i - ȳ)\n",
        "denominador_toranja = np.sum(desvios_diametro_toranja**2)                     # Σ(x_i - x̄)^2\n",
        "\n",
        "m_toranja = numerador_toranja / denominador_toranja     # coeficiente angular\n",
        "b_toranja = w_mean - m_toranja * z_mean                 # coeficiente linear\n",
        "\n",
        "# --- Preparando a figura com 3 gráficos ---\n",
        "fig = plt.figure(figsize=(12,12))\n",
        "gs = gridspec.GridSpec(3, 1, height_ratios=[2, 1, 1], hspace=0.4)\n",
        "\n",
        "# --- Gráfico principal (ambas as frutas) ---\n",
        "ax0 = fig.add_subplot(gs[0])\n",
        "ax0.scatter(orange_diameters, orange_weights, color='orange', label='Laranja', alpha=0.3, s=30)\n",
        "ax0.scatter(grapefruit_diameters, grapefruit_weights, color='purple', label='Toranja', alpha=0.3, s=30)\n",
        "ax0.scatter(x_mean, y_mean, color='red', marker='x', s=100, label='Média Laranja')\n",
        "ax0.scatter(z_mean, w_mean, color='blue', marker='x', s=100, label='Média Toranja')\n",
        "\n",
        "# Retas de regressão\n",
        "x_range_laranja = np.linspace(min(orange_diameters), max(orange_diameters), 100)\n",
        "y_range_laranja = m_laranja * x_range_laranja + b_laranja\n",
        "ax0.plot(x_range_laranja, y_range_laranja, color='orange', linewidth=2, label='Reta Laranja')\n",
        "\n",
        "x_range_toranja = np.linspace(min(grapefruit_diameters), max(grapefruit_diameters), 100)\n",
        "y_range_toranja = m_toranja * x_range_toranja + b_toranja\n",
        "ax0.plot(x_range_toranja, y_range_toranja, color='purple', linewidth=2, label='Reta Toranja')\n",
        "\n",
        "ax0.set_xlabel('Diâmetro')\n",
        "ax0.set_ylabel('Peso')\n",
        "ax0.set_title('Comparativo: Diâmetro e Peso com Retas de Regressão')\n",
        "ax0.legend()\n",
        "ax0.grid(True)\n",
        "\n",
        "# --- Gráfico só laranjas ---\n",
        "ax1 = fig.add_subplot(gs[1])\n",
        "ax1.scatter(orange_diameters, orange_weights, color='orange', alpha=0.3, s=20)\n",
        "ax1.scatter(x_mean, y_mean, color='red', marker='x', s=100, label='Média Laranja')\n",
        "ax1.plot(x_range_laranja, y_range_laranja, color='orange', linewidth=2)\n",
        "ax1.set_xlabel('Diâmetro')\n",
        "ax1.set_ylabel('Peso')\n",
        "ax1.set_title('Somente Laranjas')\n",
        "ax1.grid(True)\n",
        "\n",
        "# --- Gráfico só toranjas ---\n",
        "ax2 = fig.add_subplot(gs[2])\n",
        "ax2.scatter(grapefruit_diameters, grapefruit_weights, color='purple', alpha=0.3, s=20)\n",
        "ax2.scatter(z_mean, w_mean, color='blue', marker='x', s=100, label='Média Toranja')\n",
        "ax2.plot(x_range_toranja, y_range_toranja, color='purple', linewidth=2)\n",
        "ax2.set_xlabel('Diâmetro')\n",
        "ax2.set_ylabel('Peso')\n",
        "ax2.set_title('Somente Toranjas')\n",
        "ax2.grid(True)\n",
        "\n",
        "plt.show()"
      ],
      "metadata": {
        "colab": {
          "base_uri": "https://localhost:8080/",
          "height": 763
        },
        "id": "UT0-AsO7mtTI",
        "outputId": "4bf921c8-c88b-4973-e20b-5cadc5a109d2"
      },
      "execution_count": 55,
      "outputs": [
        {
          "output_type": "display_data",
          "data": {
            "text/plain": [
              "<Figure size 1200x1200 with 3 Axes>"
            ],
            "image/png": "[encoded data removed]"
          },
          "metadata": {}
        }
      ]
    },
    {
      "cell_type": "code",
      "source": [
        "b = 17\n",
        "np.random.seed(84)\n",
        "coef_angulares = np.random.uniform(low=0.0, high=30.0, size=100)\n",
        "\n",
        "# calcular distâncias para toranja (mesmo que o instrutor fez)\n",
        "distancia = []\n",
        "for a in coef_angulares:\n",
        "    distancia.append(np.linalg.norm(grapefruit_weights - (a * grapefruit_diameters + b)))\n",
        "distancia = np.array(distancia)\n",
        "distancia\n"
      ],
      "metadata": {
        "colab": {
          "base_uri": "https://localhost:8080/"
        },
        "id": "jaeZ4TLRnD1X",
        "outputId": "152cb05a-060c-4b5c-91e1-844439357afa"
      },
      "execution_count": 60,
      "outputs": [
        {
          "output_type": "execute_result",
          "data": {
            "text/plain": [
              "array([11693.67355856,  3756.21335179,  6888.14382259,  2567.04685515,\n",
              "       11420.77932891,  9623.66917996,  8570.85655292,  6496.51679273,\n",
              "        2577.28271294,  9613.12064833,  5709.72883857,   695.35964734,\n",
              "       10855.07029288,  5539.82389583,  3137.98293399,   296.30778902,\n",
              "        8896.93668493,  8347.82090288, 10206.95670568, 10229.7542583 ,\n",
              "        2193.54863897,  8448.39951623, 11004.80458021, 11563.3388543 ,\n",
              "        4098.18752189,  7732.70842098,  2801.84736004,  7688.60780777,\n",
              "       11134.73586307,  9432.12778879,   725.4664674 ,  6290.36141277,\n",
              "        5189.67184491,  4716.99608173,  9250.47142251,  7274.49676931,\n",
              "        8876.20611799,   621.16747277,  4716.1854569 ,  8050.51001798,\n",
              "        9238.31227388,  3992.98429323, 11531.1764187 ,  5849.11139809,\n",
              "        1042.57303406,  9875.3710071 , 11759.24152592,  8956.15615033,\n",
              "        2219.50808351,  3585.49846047, 11347.59016791,  2477.87811921,\n",
              "         878.91891293,  2740.88025627,  1766.171738  ,   710.47076735,\n",
              "       10067.07162101,  6347.17090822, 12388.06675209,  4279.10033959,\n",
              "        6946.02067623,  2906.41428845,   104.40529157,  7558.60939751,\n",
              "        4224.62973567,  8179.74838026, 12397.73292649, 11190.99930959,\n",
              "        7036.14719367, 10703.05130551, 12509.21786548,  5889.31418963,\n",
              "        7255.35608235, 12754.02485478,  4277.22119478,  2053.04097821,\n",
              "        8376.42892243,   389.94011406,  5896.97003989, 10488.87297294,\n",
              "        1195.54220071,  6454.27729425,  5255.27304236, 12297.4767493 ,\n",
              "        5899.92818696,  6505.81020644, 10388.25661606,  4879.40103495,\n",
              "        7477.48430382,  1220.34716028,  9802.44671627,  1360.59082421,\n",
              "         505.47719741,  1003.95500109,  2008.05819559,   371.10522699,\n",
              "        2094.74163899,  4658.97873807,  5043.61920931,  4893.93574007])"
            ]
          },
          "metadata": {},
          "execution_count": 60
        }
      ]
    },
    {
      "cell_type": "code",
      "source": [
        "# Menor distância encontrada\n",
        "min_dist = np.min(distancia)\n",
        "print(\"Menor distância:\", min_dist)\n",
        "\n",
        "# Coeficiente angular correspondente à menor distância\n",
        "coef_ideal = coef_angulares[distancia == min_dist]\n",
        "print(\"Coeficiente angular ótimo:\", coef_ideal)"
      ],
      "metadata": {
        "colab": {
          "base_uri": "https://localhost:8080/"
        },
        "id": "rOHC_omIrowF",
        "outputId": "10280f21-2c35-48f9-f170-e3b66ae24313"
      },
      "execution_count": 61,
      "outputs": [
        {
          "output_type": "stream",
          "name": "stdout",
          "text": [
            "Menor distância: 104.40529157196431\n",
            "Coeficiente angular ótimo: [15.82512199]\n"
          ]
        }
      ]
    },
    {
      "cell_type": "code",
      "source": [
        "#ou\n",
        "\n",
        "idx = np.argmin(distancia)            # índice do menor erro (mais robusto que \"== np.min\")\n",
        "print(\"Menor distância:\", distancia[idx])\n",
        "print(\"Coeficiente angular ótimo:\", coef_angulares[idx])"
      ],
      "metadata": {
        "colab": {
          "base_uri": "https://localhost:8080/"
        },
        "id": "oLUuEZ7XwZKI",
        "outputId": "b7a93f3b-1899-4958-c777-99165ad3126b"
      },
      "execution_count": 63,
      "outputs": [
        {
          "output_type": "stream",
          "name": "stdout",
          "text": [
            "Menor distância: 104.40529157196431\n",
            "Coeficiente angular ótimo: 15.825121993784064\n"
          ]
        }
      ]
    }
  ]
}